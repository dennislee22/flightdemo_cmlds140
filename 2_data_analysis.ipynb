{
 "cells": [
  {
   "cell_type": "markdown",
   "metadata": {},
   "source": [
    "# Part 2 - Data Analysis\n",
    "\n",
    "For this project, the requirement is to use the flights dataset to predict if a particular flight in the future will be cancelled. This first notebook is used to explore the data.\n",
    "\n"
   ]
  },
  {
   "cell_type": "code",
   "execution_count": 3,
   "metadata": {
    "scrolled": false
   },
   "outputs": [],
   "source": [
    "#The various imports\n",
    "import numpy as np\n",
    "import matplotlib.pyplot as plt\n",
    "import seaborn as sns\n",
    "import os\n",
    "\n",
    "from pyspark.sql import SparkSession\n",
    "from pyspark.sql.types import *\n",
    "from pyspark.sql.functions import *\n",
    "from pyspark_llap.sql.session import HiveWarehouseSession"
   ]
  },
  {
   "cell_type": "markdown",
   "metadata": {},
   "source": [
    "## Create the Spark session\n",
    "Connect to spark using the standard Spark Session connector. I've put the connection parameters into each file directly they change dependingo the type of job that is running. You should adjust the following for your specific Spark environment.\n",
    "\n",
    "+ `spark.executor.memory`\n",
    "+ `spark.executor.cores`\n",
    "+ `spark.driver.memory` \n",
    "\n",
    "Spark will use the default `master` setting when connecting to the resource manager. With Cloudera CML, this will be Spark on Kubernetes. If you are working on you local machine for testing, add `.master(\"local[*]\")\\` before `.getOrCreate()`     \n",
    "\n",
    "The next on is specific to the Cloudera CML setup:\n",
    "\n",
    "`spark.yarn.access.hadoopFileSystems s3a://[s3 bucket location]`"
   ]
  },
  {
   "cell_type": "code",
   "execution_count": 4,
   "metadata": {
    "scrolled": false
   },
   "outputs": [],
   "source": [
    "storage = os.getenv(\"STORAGE\")\n",
    "storage = \"/tmp\"\n",
    "\n",
    "spark = SparkSession\\\n",
    "    .builder\\\n",
    "    .appName(\"Airline Data Exploration\")\\\n",
    "    .config(\"spark.security.credentials.hiveserver2.enabled\",\"false\")\\\n",
    "    .config(\"spark.datasource.hive.warehouse.read.jdbc.mode\", \"client\")\\\n",
    "    .config(\"spark.jars\", \"/home/cdsw/hive-warehouse-connector-assembly-1.0.0.7.1.7.1000-141.jar\")\\\n",
    "    .config(\"spark.sql.hive.hiveserver2.jdbc.url\",\"jdbc:hive2://hs2-hiveflight.apps.ecs1.cdpkvm.cldr/flight;transportMode=http;httpPath=cliservice;socketTimeout=60;ssl=true;retries=3;user=ldapuser1;password=ldapuser1\")\\\n",
    "    .config(\"spark.executor.memory\",\"8g\")\\\n",
    "    .config(\"spark.executor.cores\",\"2\")\\\n",
    "    .config(\"spark.driver.memory\",\"6g\")\\\n",
    "    .config(\"spark.rpc.message.maxSize\", \"1024\")\\\n",
    "    .config(\"spark.yarn.access.hadoopFileSystems\",storage)\\\n",
    "    .getOrCreate()"
   ]
  },
  {
   "cell_type": "markdown",
   "metadata": {},
   "source": [
    "## Load the Spark UI\n",
    "This creates a link the Spark UI. Its specific to CML and needed because of an issue wit TLS that is being fixed. If you are running locally, just run `spark` as a command in a cell and it will provide you with the Spark UI link."
   ]
  },
  {
   "cell_type": "code",
   "execution_count": 5,
   "metadata": {
    "scrolled": false
   },
   "outputs": [
    {
     "data": {
      "text/html": [
       "<a href=\"http://spark-8asiuzepjxcd2lfo.ml-541f9e83-006.apps.ecs1.cdpkvm.cldr\" target=\"_blank\">Spark UI</a>"
      ],
      "text/plain": [
       "<IPython.core.display.HTML object>"
      ]
     },
     "execution_count": 5,
     "metadata": {},
     "output_type": "execute_result"
    }
   ],
   "source": [
    "from IPython.core.display import HTML\n",
    "HTML('<a href=\"http://spark-{}.{}\" target=\"_blank\">Spark UI</a>'.format(os.getenv(\"CDSW_ENGINE_ID\"),os.getenv(\"CDSW_DOMAIN\")))"
   ]
  },
  {
   "cell_type": "markdown",
   "metadata": {},
   "source": [
    "## Import the data\n",
    "This file was downloaded from [Kaggle](https://www.kaggle.com/yuanyuwendymu/airline-delay-and-cancellation-data-2009-2018) as a CSV and upload to S3. Since we know the schema already, we can make its correct by defining the schema for the import rather than relying on inferSchema. Its also faster! \n",
    "\n",
    "_Note: If you are working in local mode, you should limit the number of rows that are returned._\n",
    "\n",
    "> _HANDY TIP_\n",
    "> \n",
    "> Use `.persist()` on a data frame that you are work a lot with to prevent Spark from fetching the data everytime you run query. It will store that dataframe in memory and all operations on that dataframe will run on the in-memory version."
   ]
  },
  {
   "cell_type": "code",
   "execution_count": 6,
   "metadata": {
    "scrolled": false
   },
   "outputs": [
    {
     "data": {
      "text/plain": [
       "DataFrame[fl_date: date, dep_time: string, crs_dep_time: string, arr_time: string, crs_arr_time: string, op_carrier: string, op_carrier_fl_num: string, actual_elapsed_time: double, crs_elapsed_time: double, air_time: double, arr_delay: double, dep_delay: double, origin: string, dest: string, distance: double, taxi_in: double, taxi_out: double, cancelled: double, cancellation_code: string, diverted: double, carrier_delay: double, weather_delay: double, nas_delay: double, security_delay: double, late_aircraft_delay: double]"
      ]
     },
     "execution_count": 6,
     "metadata": {},
     "output_type": "execute_result"
    }
   ],
   "source": [
    "#flight_df = spark.sql(\"select * from default.flights_data_all\")\n",
    "\n",
    "# Uncomment this if you are running in local mode and just want to see things work\n",
    "#flight_df = flight_df.limit(10000)\n",
    "hive = HiveWarehouseSession.session(spark).build()\n",
    "flight_df = hive.sql(\"select * from flight.flights_data_all limit 1234567\")\n",
    "flight_df.persist()"
   ]
  },
  {
   "cell_type": "markdown",
   "metadata": {},
   "source": [
    "## Cancelled Flights by Carrier\n",
    "The first bit of data exploration is to check the flight cancellations by carrier. This is best done by showing which carrier has the highet percentage of cancelled flights rather than the total number of cancelled flights. \n",
    "\n",
    "Concepts introduced in this section:\n",
    "+ `filter()`,`groupby` etc.\n",
    "+ `withColumn` and `withColumnRenamed`\n",
    "+ `toPandas()`"
   ]
  },
  {
   "cell_type": "code",
   "execution_count": 7,
   "metadata": {},
   "outputs": [
    {
     "name": "stdout",
     "output_type": "stream",
     "text": [
      "root\n",
      " |-- fl_date: date (nullable = true)\n",
      " |-- dep_time: string (nullable = true)\n",
      " |-- crs_dep_time: string (nullable = true)\n",
      " |-- arr_time: string (nullable = true)\n",
      " |-- crs_arr_time: string (nullable = true)\n",
      " |-- op_carrier: string (nullable = true)\n",
      " |-- op_carrier_fl_num: string (nullable = true)\n",
      " |-- actual_elapsed_time: double (nullable = true)\n",
      " |-- crs_elapsed_time: double (nullable = true)\n",
      " |-- air_time: double (nullable = true)\n",
      " |-- arr_delay: double (nullable = true)\n",
      " |-- dep_delay: double (nullable = true)\n",
      " |-- origin: string (nullable = true)\n",
      " |-- dest: string (nullable = true)\n",
      " |-- distance: double (nullable = true)\n",
      " |-- taxi_in: double (nullable = true)\n",
      " |-- taxi_out: double (nullable = true)\n",
      " |-- cancelled: double (nullable = true)\n",
      " |-- cancellation_code: string (nullable = true)\n",
      " |-- diverted: double (nullable = true)\n",
      " |-- carrier_delay: double (nullable = true)\n",
      " |-- weather_delay: double (nullable = true)\n",
      " |-- nas_delay: double (nullable = true)\n",
      " |-- security_delay: double (nullable = true)\n",
      " |-- late_aircraft_delay: double (nullable = true)\n",
      "\n"
     ]
    }
   ],
   "source": [
    "flight_df.printSchema()"
   ]
  },
  {
   "cell_type": "code",
   "execution_count": 8,
   "metadata": {
    "scrolled": false
   },
   "outputs": [
    {
     "data": {
      "text/html": [
       "<div>\n",
       "<style scoped>\n",
       "    .dataframe tbody tr th:only-of-type {\n",
       "        vertical-align: middle;\n",
       "    }\n",
       "\n",
       "    .dataframe tbody tr th {\n",
       "        vertical-align: top;\n",
       "    }\n",
       "\n",
       "    .dataframe thead th {\n",
       "        text-align: right;\n",
       "    }\n",
       "</style>\n",
       "<table border=\"1\" class=\"dataframe\">\n",
       "  <thead>\n",
       "    <tr style=\"text-align: right;\">\n",
       "      <th></th>\n",
       "      <th>OP_CARRIER</th>\n",
       "      <th>count_total</th>\n",
       "      <th>OP_CARRIER</th>\n",
       "      <th>count_delays</th>\n",
       "      <th>delay_percent</th>\n",
       "    </tr>\n",
       "  </thead>\n",
       "  <tbody>\n",
       "    <tr>\n",
       "      <td>0</td>\n",
       "      <td>TW</td>\n",
       "      <td>32752</td>\n",
       "      <td>TW</td>\n",
       "      <td>1229</td>\n",
       "      <td>3.752443</td>\n",
       "    </tr>\n",
       "    <tr>\n",
       "      <td>1</td>\n",
       "      <td>DH</td>\n",
       "      <td>53434</td>\n",
       "      <td>DH</td>\n",
       "      <td>1686</td>\n",
       "      <td>3.155294</td>\n",
       "    </tr>\n",
       "    <tr>\n",
       "      <td>2</td>\n",
       "      <td>EV</td>\n",
       "      <td>19339</td>\n",
       "      <td>EV</td>\n",
       "      <td>542</td>\n",
       "      <td>2.802627</td>\n",
       "    </tr>\n",
       "    <tr>\n",
       "      <td>3</td>\n",
       "      <td>MQ</td>\n",
       "      <td>43129</td>\n",
       "      <td>MQ</td>\n",
       "      <td>1120</td>\n",
       "      <td>2.596861</td>\n",
       "    </tr>\n",
       "    <tr>\n",
       "      <td>4</td>\n",
       "      <td>OO</td>\n",
       "      <td>12967</td>\n",
       "      <td>OO</td>\n",
       "      <td>260</td>\n",
       "      <td>2.005090</td>\n",
       "    </tr>\n",
       "    <tr>\n",
       "      <td>5</td>\n",
       "      <td>NW</td>\n",
       "      <td>77386</td>\n",
       "      <td>NW</td>\n",
       "      <td>1487</td>\n",
       "      <td>1.921536</td>\n",
       "    </tr>\n",
       "    <tr>\n",
       "      <td>6</td>\n",
       "      <td>AS</td>\n",
       "      <td>39127</td>\n",
       "      <td>AS</td>\n",
       "      <td>697</td>\n",
       "      <td>1.781379</td>\n",
       "    </tr>\n",
       "    <tr>\n",
       "      <td>7</td>\n",
       "      <td>UA</td>\n",
       "      <td>129201</td>\n",
       "      <td>UA</td>\n",
       "      <td>1812</td>\n",
       "      <td>1.402466</td>\n",
       "    </tr>\n",
       "    <tr>\n",
       "      <td>8</td>\n",
       "      <td>XE</td>\n",
       "      <td>21689</td>\n",
       "      <td>XE</td>\n",
       "      <td>300</td>\n",
       "      <td>1.383190</td>\n",
       "    </tr>\n",
       "    <tr>\n",
       "      <td>9</td>\n",
       "      <td>AA</td>\n",
       "      <td>132322</td>\n",
       "      <td>AA</td>\n",
       "      <td>1807</td>\n",
       "      <td>1.365608</td>\n",
       "    </tr>\n",
       "  </tbody>\n",
       "</table>\n",
       "</div>"
      ],
      "text/plain": [
       "  OP_CARRIER  count_total OP_CARRIER  count_delays  delay_percent\n",
       "0         TW        32752         TW          1229       3.752443\n",
       "1         DH        53434         DH          1686       3.155294\n",
       "2         EV        19339         EV           542       2.802627\n",
       "3         MQ        43129         MQ          1120       2.596861\n",
       "4         OO        12967         OO           260       2.005090\n",
       "5         NW        77386         NW          1487       1.921536\n",
       "6         AS        39127         AS           697       1.781379\n",
       "7         UA       129201         UA          1812       1.402466\n",
       "8         XE        21689         XE           300       1.383190\n",
       "9         AA       132322         AA          1807       1.365608"
      ]
     },
     "execution_count": 8,
     "metadata": {},
     "output_type": "execute_result"
    }
   ],
   "source": [
    "cancel_by_carrier = flight_df\\\n",
    "  .filter(\"CANCELLED == 1\")\\\n",
    "  .groupby(\"OP_CARRIER\")\\\n",
    "  .count()\\\n",
    "  .sort(\"count\",ascending=False)\\\n",
    "  .withColumnRenamed('count', 'count_delays')\n",
    "\n",
    "  \n",
    "flight_by_carrier = flight_df\\\n",
    "  .groupby(\"OP_CARRIER\")\\\n",
    "  .count()\\\n",
    "  .sort(\"count\",ascending=False)\\\n",
    "  .withColumnRenamed('count', 'count_total')\n",
    "\n",
    "  \n",
    "cancel_by_carrier_percent = flight_by_carrier\\\n",
    "  .join(\n",
    "    cancel_by_carrier, \n",
    "    flight_by_carrier.OP_CARRIER == cancel_by_carrier.OP_CARRIER\n",
    "  )\n",
    "  \n",
    "cancel_by_carrier_percent = cancel_by_carrier_percent\\\n",
    "  .withColumn(\n",
    "    \"delay_percent\",(\n",
    "      cancel_by_carrier_percent.count_delays/cancel_by_carrier_percent.count_total\n",
    "    )*100\n",
    "  )\\\n",
    "  .sort(\"delay_percent\",ascending=False)\\\n",
    "  .toPandas()\n",
    "\n",
    "# This limits\n",
    "cancel_by_carrier_percent.head(10)\n"
   ]
  },
  {
   "cell_type": "markdown",
   "metadata": {},
   "source": [
    "# Cancelled flights by Year\n",
    "This is not necessarily useful as a predictive metric, but it is still interesting."
   ]
  },
  {
   "cell_type": "code",
   "execution_count": 9,
   "metadata": {
    "scrolled": false
   },
   "outputs": [],
   "source": [
    "flight_by_year = flight_df\\\n",
    "  .withColumn('year', year('FL_DATE'))\\\n",
    "  .groupby(\"year\")\\\n",
    "  .count()\\\n",
    "  .sort(\"count\",ascending=False)\\\n",
    "  .withColumnRenamed('count', 'count_total')\n",
    "  \n",
    "cancel_by_year = flight_df\\\n",
    "  .filter(\"cancelled == 1\")\\\n",
    "  .withColumn('year', year('FL_DATE'))\\\n",
    "  .withColumnRenamed(\"year\",\"year_cancel\")\\\n",
    "  .groupby(\"year_cancel\")\\\n",
    "  .count()\\\n",
    "  .sort(\"count\",ascending=False)\\\n",
    "  .withColumnRenamed('count', 'cancel_total')\n",
    "\n",
    "cancel_by_year_percent = flight_by_year\\\n",
    "  .join(\n",
    "    cancel_by_year, \n",
    "    flight_by_year.year == cancel_by_year.year_cancel\n",
    "  )  \n",
    "  \n",
    "cancel_by_year_percent = cancel_by_year_percent\\\n",
    "  .withColumn(\n",
    "    \"delay_percent\",(\n",
    "      cancel_by_year_percent.cancel_total/cancel_by_year_percent.count_total\n",
    "    )*100\n",
    "  )\\\n",
    "  .sort(\"year\",ascending=False)\n",
    "  \n",
    "cancel_by_year_percent_pd = cancel_by_year_percent.toPandas()"
   ]
  },
  {
   "cell_type": "markdown",
   "metadata": {},
   "source": [
    "Plot this using a Tufte-like layout :)"
   ]
  },
  {
   "cell_type": "code",
   "execution_count": 10,
   "metadata": {
    "scrolled": false
   },
   "outputs": [
    {
     "data": {
      "image/png": "[encoded data removed]",
      "text/plain": [
       "<Figure size 432x288 with 1 Axes>"
      ]
     },
     "metadata": {},
     "output_type": "display_data"
    }
   ],
   "source": [
    "sns.set_style(\"white\",{'axes.axisbelow': False})\n",
    "plt.bar( \n",
    "cancel_by_year_percent_pd.year, \n",
    "cancel_by_year_percent_pd.delay_percent,\n",
    "align='center', \n",
    "alpha=0.5,\n",
    "color='#888888',\n",
    ")\n",
    "plt.grid(color='#FFFFFF', linestyle='-', linewidth=0.5, axis='y')\n",
    "plt.title(\n",
    "'Percentage Cancelled Flights by Year',\n",
    "color='grey'\n",
    ")\n",
    "plt.xticks(\n",
    "cancel_by_year_percent_pd.year,\n",
    "color='grey',\n",
    "rotation=45    \n",
    ")\n",
    "plt.yticks(color='grey')\n",
    "sns.despine(left=True,bottom=True)"
   ]
  },
  {
   "cell_type": "markdown",
   "metadata": {},
   "source": [
    "## Cancelled flights per Week of Year\n",
    "This is a more intersting statistic and likely to have more predictive power. Week of Year will be a seasonal and generally the flight patterns will have busier vs less busy times of the year. This will also show the effect that seasonal weather conditions can have on flight cancellations."
   ]
  },
  {
   "cell_type": "code",
   "execution_count": 11,
   "metadata": {
    "scrolled": false
   },
   "outputs": [],
   "source": [
    "flight_by_week = flight_df\\\n",
    "  .withColumn(\"week\",weekofyear(\"FL_DATE\"))\\\n",
    "  .groupby(\"week\")\\\n",
    "  .count()\\\n",
    "  .sort(\"count\",ascending=False)\\\n",
    "  .withColumnRenamed('count', 'count_total')\n",
    "  \n",
    "cancel_by_week = flight_df\\\n",
    "  .filter(\"cancelled == 1\")\\\n",
    "  .withColumn(\"week\",weekofyear(\"FL_DATE\"))\\\n",
    "  .withColumnRenamed(\"week\",\"week_cancel\")\\\n",
    "  .groupby(\"week_cancel\")\\\n",
    "  .count()\\\n",
    "  .sort(\"count\",ascending=False)\\\n",
    "  .withColumnRenamed('count', 'cancel_total')\n",
    "\n",
    "cancel_by_week_percent = flight_by_week\\\n",
    "  .join(\n",
    "    cancel_by_week, \n",
    "    flight_by_week.week == cancel_by_week.week_cancel\n",
    "  )  \n",
    "  \n",
    "cancel_by_week_percent = cancel_by_week_percent\\\n",
    "  .withColumn(\n",
    "    \"delay_percent\",(\n",
    "      cancel_by_week_percent.cancel_total/cancel_by_week_percent.count_total\n",
    "    )*100\n",
    "  )\\\n",
    "  .sort(\"week\",ascending=False)\n",
    "  \n",
    "cancel_by_week_percent_pd = cancel_by_week_percent.toPandas()"
   ]
  },
  {
   "cell_type": "code",
   "execution_count": 12,
   "metadata": {
    "scrolled": false
   },
   "outputs": [
    {
     "data": {
      "image/png": "[encoded data removed]",
      "text/plain": [
       "<Figure size 432x288 with 1 Axes>"
      ]
     },
     "metadata": {},
     "output_type": "display_data"
    }
   ],
   "source": [
    "def plotter():\n",
    "  sns.set_style(\"white\",{'axes.axisbelow': False})\n",
    "  plt.bar( \n",
    "    cancel_by_week_percent_pd.week, \n",
    "    cancel_by_week_percent_pd.delay_percent,\n",
    "    align='center', \n",
    "    alpha=0.5,\n",
    "    color='#888888',\n",
    "  )\n",
    "  plt.grid(color='#FFFFFF', linestyle='-', linewidth=0.5, axis='y')\n",
    "  plt.title(\n",
    "    'Percentage Cancelled Flights by Week',\n",
    "    color='grey'\n",
    "  )\n",
    "  plt.xticks(\n",
    "    color='grey',\n",
    "    rotation=45\n",
    "  )\n",
    "  plt.yticks(color='grey')\n",
    "  sns.despine(left=True,bottom=True)\n",
    "plotter()"
   ]
  },
  {
   "cell_type": "markdown",
   "metadata": {},
   "source": [
    "## Calculating Cancelled Routes\n",
    "To work out if route is likely to cancalled, the easiest way is to create a string that combines the origin and destination. However that works only in on direction, so calculate for both directions, the code below uses `hash` to create an interger that is the sum of the a of the origin and a hash of the destination. This creates a commutative process for any route.\n",
    "\n",
    "\n",
    "> HANDY TIP\n",
    "> In pyspark you can aggregate inside a `select` function (i.e. use `sum` etc) if its not after a groupby"
   ]
  },
  {
   "cell_type": "code",
   "execution_count": 13,
   "metadata": {
    "scrolled": false
   },
   "outputs": [
    {
     "data": {
      "text/html": [
       "<div>\n",
       "<style scoped>\n",
       "    .dataframe tbody tr th:only-of-type {\n",
       "        vertical-align: middle;\n",
       "    }\n",
       "\n",
       "    .dataframe tbody tr th {\n",
       "        vertical-align: top;\n",
       "    }\n",
       "\n",
       "    .dataframe thead th {\n",
       "        text-align: right;\n",
       "    }\n",
       "</style>\n",
       "<table border=\"1\" class=\"dataframe\">\n",
       "  <thead>\n",
       "    <tr style=\"text-align: right;\">\n",
       "      <th></th>\n",
       "      <th>route</th>\n",
       "      <th>count</th>\n",
       "      <th>count_all</th>\n",
       "      <th>cancelled_percent</th>\n",
       "    </tr>\n",
       "  </thead>\n",
       "  <tbody>\n",
       "    <tr>\n",
       "      <td>0</td>\n",
       "      <td>LGA&lt;&gt;EWR</td>\n",
       "      <td>1</td>\n",
       "      <td>1</td>\n",
       "      <td>100.000000</td>\n",
       "    </tr>\n",
       "    <tr>\n",
       "      <td>1</td>\n",
       "      <td>ALB&lt;&gt;BTV</td>\n",
       "      <td>1</td>\n",
       "      <td>1</td>\n",
       "      <td>100.000000</td>\n",
       "    </tr>\n",
       "    <tr>\n",
       "      <td>2</td>\n",
       "      <td>DUT&lt;&gt;ANC</td>\n",
       "      <td>60</td>\n",
       "      <td>208</td>\n",
       "      <td>28.846154</td>\n",
       "    </tr>\n",
       "    <tr>\n",
       "      <td>3</td>\n",
       "      <td>KSM&lt;&gt;ANC</td>\n",
       "      <td>2</td>\n",
       "      <td>9</td>\n",
       "      <td>22.222222</td>\n",
       "    </tr>\n",
       "    <tr>\n",
       "      <td>4</td>\n",
       "      <td>LFT&lt;&gt;DFW</td>\n",
       "      <td>1</td>\n",
       "      <td>6</td>\n",
       "      <td>16.666667</td>\n",
       "    </tr>\n",
       "    <tr>\n",
       "      <td>5</td>\n",
       "      <td>MOD&lt;&gt;SFO</td>\n",
       "      <td>14</td>\n",
       "      <td>95</td>\n",
       "      <td>14.736842</td>\n",
       "    </tr>\n",
       "    <tr>\n",
       "      <td>6</td>\n",
       "      <td>GRR&lt;&gt;STL</td>\n",
       "      <td>3</td>\n",
       "      <td>22</td>\n",
       "      <td>13.636364</td>\n",
       "    </tr>\n",
       "    <tr>\n",
       "      <td>7</td>\n",
       "      <td>EGE&lt;&gt;DEN</td>\n",
       "      <td>4</td>\n",
       "      <td>31</td>\n",
       "      <td>12.903226</td>\n",
       "    </tr>\n",
       "    <tr>\n",
       "      <td>8</td>\n",
       "      <td>PWM&lt;&gt;DTW</td>\n",
       "      <td>4</td>\n",
       "      <td>32</td>\n",
       "      <td>12.500000</td>\n",
       "    </tr>\n",
       "    <tr>\n",
       "      <td>9</td>\n",
       "      <td>MLI&lt;&gt;ORD</td>\n",
       "      <td>31</td>\n",
       "      <td>277</td>\n",
       "      <td>11.191336</td>\n",
       "    </tr>\n",
       "  </tbody>\n",
       "</table>\n",
       "</div>"
      ],
      "text/plain": [
       "      route  count  count_all  cancelled_percent\n",
       "0  LGA<>EWR      1          1         100.000000\n",
       "1  ALB<>BTV      1          1         100.000000\n",
       "2  DUT<>ANC     60        208          28.846154\n",
       "3  KSM<>ANC      2          9          22.222222\n",
       "4  LFT<>DFW      1          6          16.666667\n",
       "5  MOD<>SFO     14         95          14.736842\n",
       "6  GRR<>STL      3         22          13.636364\n",
       "7  EGE<>DEN      4         31          12.903226\n",
       "8  PWM<>DTW      4         32          12.500000\n",
       "9  MLI<>ORD     31        277          11.191336"
      ]
     },
     "execution_count": 13,
     "metadata": {},
     "output_type": "execute_result"
    }
   ],
   "source": [
    "all_routes = flight_df\\\n",
    "  .withColumn(\"combo_hash\", hash(\"ORIGIN\")+hash(\"DEST\"))\\\n",
    "  .withColumn(\"combo\", concat(col(\"ORIGIN\"),col(\"DEST\")))\\\n",
    "  .groupby(\"combo_hash\")\\\n",
    "  .agg(count(\"combo_hash\").alias(\"count_all\"),first(\"combo\").alias(\"route_alias_all\"))\\\n",
    "  .sort(\"count_all\",ascending=False)\n",
    "\n",
    "cancelled_routes_all = flight_df\\\n",
    "  .filter(\"cancelled == 1\")\\\n",
    "  .withColumn(\"combo_hash\", hash(\"ORIGIN\")+hash(\"DEST\"))\\\n",
    "  .withColumn(\"combo\", concat(col(\"ORIGIN\"),col(\"DEST\")))\\\n",
    "  .groupby(\"combo_hash\")\\\n",
    "  .agg(count(\"combo_hash\").alias(\"count\"),first(\"combo\").alias(\"route_alias\"))\\\n",
    "  .sort(\"count\",ascending=False)  \n",
    "\n",
    "cancelled_routes_percentage = cancelled_routes_all\\\n",
    "  .join(\n",
    "    all_routes,\n",
    "    cancelled_routes_all.combo_hash == all_routes.combo_hash\n",
    "  )\\\n",
    "  .withColumn(\n",
    "    \"route\", \n",
    "    concat(\n",
    "      substring(col(\"route_alias\"),0,3),\n",
    "      lit(\"<>\"),\n",
    "      substring(col(\"route_alias\"),4,6)\n",
    "    )\n",
    "  )\\\n",
    "  .withColumn(\n",
    "    \"cancelled_percent\", \n",
    "    col(\"count\")/col(\"count_all\")*100\n",
    "  )\\\n",
    "  .select(\"route\",\"count\",\"count_all\",\"cancelled_percent\")\\\n",
    "  .sort(\"cancelled_percent\",ascending=False)\n",
    "\n",
    "cancelled_routes_percentage.toPandas().head(10)"
   ]
  },
  {
   "cell_type": "markdown",
   "metadata": {},
   "source": [
    "### Side Note\n",
    "Interestingly most popular routes have similar numbers of cancelled flights in either direction."
   ]
  },
  {
   "cell_type": "code",
   "execution_count": null,
   "metadata": {},
   "outputs": [],
   "source": [
    "cancelled_by_route_non_combo = flight_df\\\n",
    "  .filter(\"CANCELLED == 1\")\\\n",
    "  .withColumn(\"combo\", concat(col(\"ORIGIN\"),col(\"DEST\")))\\\n",
    "  .groupby(\"combo\")\\\n",
    "  .count()\\\n",
    "  .sort(\"count\",ascending=False)\n",
    "\n",
    "cancelled_by_route_non_combo.toPandas().head(10)"
   ]
  },
  {
   "cell_type": "markdown",
   "metadata": {},
   "source": [
    "## Find Unused Columns\n",
    "Given that our aim is to calculate a prediction for the CANCELLED variable, many of the other columns are no longer relevant. You don't have an actual wheels down time for a cancelled flight. The code below lists the colums that have lots of NA values on cancelled flights."
   ]
  },
  {
   "cell_type": "code",
   "execution_count": null,
   "metadata": {},
   "outputs": [],
   "source": [
    "unused_columns = flight_df\\\n",
    "  .filter(\"CANCELLED == 1\")\\\n",
    "  .agg(*(sum(isnull(c).cast('int')).alias(c) for c in flight_df.columns))\n",
    "\n",
    "unused_columns_df = unused_columns.toPandas()\n",
    "unused_columns_df_t = unused_columns_df.transpose()\n",
    "unused_columns_df_t.rename( columns={0 :'count'}, inplace=True )\n",
    "unused_columns_df_t.query('count>0').index.values"
   ]
  },
  {
   "cell_type": "code",
   "execution_count": null,
   "metadata": {},
   "outputs": [],
   "source": [
    "spark.stop()"
   ]
  },
  {
   "cell_type": "code",
   "execution_count": null,
   "metadata": {},
   "outputs": [],
   "source": []
  }
 ],
 "metadata": {
  "file_extension": ".py",
  "kernelspec": {
   "display_name": "Python 3",
   "language": "python",
   "name": "python3"
  },
  "language_info": {
   "codemirror_mode": {
    "name": "ipython",
    "version": 3
   },
   "file_extension": ".py",
   "mimetype": "text/x-python",
   "name": "python",
   "nbconvert_exporter": "python",
   "pygments_lexer": "ipython3",
   "version": "3.6.13"
  },
  "mimetype": "text/x-python",
  "name": "python",
  "npconvert_exporter": "python",
  "pygments_lexer": "ipython3",
  "version": 3
 },
 "nbformat": 4,
 "nbformat_minor": 2
}

